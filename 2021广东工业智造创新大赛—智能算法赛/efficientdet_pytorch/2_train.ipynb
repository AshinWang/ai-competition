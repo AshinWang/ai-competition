{
 "cells": [
  {
   "cell_type": "code",
   "execution_count": 1,
   "metadata": {},
   "outputs": [
    {
     "name": "stdout",
     "output_type": "stream",
     "text": [
      "Cloning into 'Yet-Another-EfficientDet-Pytorch'...\n",
      "remote: Enumerating objects: 47, done.\u001b[K\n",
      "remote: Counting objects: 100% (47/47), done.\u001b[K\n",
      "remote: Compressing objects: 100% (44/44), done.\u001b[K\n",
      "remote: Total 47 (delta 3), reused 24 (delta 1), pack-reused 0\u001b[K\n",
      "Unpacking objects: 100% (47/47), done.\n"
     ]
    }
   ],
   "source": [
    "import os\n",
    "import sys\n",
    "if \"projects\" not in os.getcwd():\n",
    "  !git clone --depth 1 https://github.com/zylo117/Yet-Another-EfficientDet-Pytorch\n",
    "  os.chdir('Yet-Another-EfficientDet-Pytorch')\n",
    "  sys.path.append('.')\n",
    "else:\n",
    "  !git pull"
   ]
  },
  {
   "cell_type": "code",
   "execution_count": 2,
   "metadata": {},
   "outputs": [],
   "source": [
    "! mkdir datasets"
   ]
  },
  {
   "cell_type": "code",
   "execution_count": null,
   "metadata": {},
   "outputs": [],
   "source": [
    "!pip install pycocotools numpy opencv-python tqdm tensorboard tensorboardX pyyaml webcolors"
   ]
  },
  {
   "cell_type": "code",
   "execution_count": null,
   "metadata": {},
   "outputs": [
    {
     "name": "stdout",
     "output_type": "stream",
     "text": [
      "loading annotations into memory...\n",
      "Done (t=0.07s)\n",
      "creating index...\n",
      "index created!\n",
      "loading annotations into memory...\n",
      "Done (t=0.02s)\n",
      "creating index...\n",
      "index created!\n",
      "[Info] initializing weights...\n",
      "Step: 499. Epoch: 0/100. Iteration: 500/2113. Cls loss: 0.26671. Reg loss: 0.000checkpoint...\n",
      "Step: 999. Epoch: 0/100. Iteration: 1000/2113. Cls loss: 0.01957. Reg loss: 0.00checkpoint...\n",
      "Step: 1499. Epoch: 0/100. Iteration: 1500/2113. Cls loss: 0.00435. Reg loss: 0.0checkpoint...\n",
      "Step: 1844. Epoch: 0/100. Iteration: 1845/2113. Cls loss: 0.00278. Reg loss: 0.0Premature end of JPEG file\n",
      "Step: 1999. Epoch: 0/100. Iteration: 2000/2113. Cls loss: 0.00233. Reg loss: 0.0checkpoint...\n",
      "Step: 2112. Epoch: 0/100. Iteration: 2113/2113. Cls loss: 0.00263. Reg loss: 0.0\n",
      "Val. Epoch: 0/100. Classification loss: 19.01208. Regression loss: 0.35805. Total loss: 19.37013\n",
      "Step: 2499. Epoch: 1/100. Iteration: 387/2113. Cls loss: 0.00169. Reg loss: 0.00checkpoint...\n",
      "Step: 2781. Epoch: 1/100. Iteration: 669/2113. Cls loss: 0.00141. Reg loss: 0.00Premature end of JPEG file\n",
      "Step: 2999. Epoch: 1/100. Iteration: 887/2113. Cls loss: 0.00149. Reg loss: 0.00checkpoint...\n",
      "Step: 3499. Epoch: 1/100. Iteration: 1387/2113. Cls loss: 0.00146. Reg loss: 0.0checkpoint...\n",
      "Step: 3999. Epoch: 1/100. Iteration: 1887/2113. Cls loss: 0.00071. Reg loss: 0.0checkpoint...\n",
      "Step: 4071. Epoch: 1/100. Iteration: 1959/2113. Cls loss: 0.00081. Reg loss: 0.0"
     ]
    }
   ],
   "source": [
    "!python train.py -c 3 -p coco --batch_size 2 --lr 1e-3 --num_epochs 100 "
   ]
  },
  {
   "cell_type": "code",
   "execution_count": null,
   "metadata": {},
   "outputs": [],
   "source": []
  }
 ],
 "metadata": {
  "kernelspec": {
   "display_name": "Python 3",
   "language": "python",
   "name": "python3"
  },
  "language_info": {
   "codemirror_mode": {
    "name": "ipython",
    "version": 3
   },
   "file_extension": ".py",
   "mimetype": "text/x-python",
   "name": "python",
   "nbconvert_exporter": "python",
   "pygments_lexer": "ipython3",
   "version": "3.7.7"
  }
 },
 "nbformat": 4,
 "nbformat_minor": 4
}
