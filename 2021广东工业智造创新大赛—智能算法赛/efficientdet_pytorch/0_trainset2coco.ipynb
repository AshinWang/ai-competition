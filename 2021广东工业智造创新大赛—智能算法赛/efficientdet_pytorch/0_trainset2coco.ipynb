{
 "cells": [
  {
   "cell_type": "code",
   "execution_count": 1,
   "metadata": {},
   "outputs": [],
   "source": [
    "import numpy as np\n",
    "import pandas as pd\n",
    "import shutil\n",
    "import json\n",
    "import os\n",
    "import cv2\n",
    "import glob\n",
    "from tqdm import tqdm"
   ]
  },
  {
   "cell_type": "code",
   "execution_count": 2,
   "metadata": {},
   "outputs": [],
   "source": [
    "from PIL import Image\n",
    "class Fabric2COCO:\n",
    "    def __init__(self,\n",
    "            is_mode = \"train\"\n",
    "            ):\n",
    "        self.images = []\n",
    "        self.annotations = []\n",
    "        self.categories = []\n",
    "        self.img_id = 0\n",
    "        self.ann_id = 0\n",
    "        self.is_mode = is_mode\n",
    "        if not os.path.exists(\"dataset/coco/{}\".format(self.is_mode)):\n",
    "            os.makedirs(\"dataset/coco/{}\".format(self.is_mode))\n",
    "\n",
    "    def to_coco(self, anno_file,img_dir):\n",
    "        self._init_categories()\n",
    "        anno_result= pd.read_json(open(anno_file,\"r\"))\n",
    "        \n",
    "        if self.is_mode == \"train\":\n",
    "            anno_result = anno_result.head(int(anno_result['name'].count()*0.8))\n",
    "        elif self.is_mode == \"val\":\n",
    "            anno_result = anno_result.tail(int(anno_result['name'].count()*0.2)) \n",
    "        name_list=anno_result[\"name\"].unique() #返回唯一图片名字\n",
    "        \n",
    "        for img_name in tqdm(name_list):\n",
    "            img_anno = anno_result[anno_result[\"name\"] == img_name]#取出此图片的所有标注\n",
    "            bboxs = img_anno[\"bbox\"].tolist()#返回list\n",
    "            defect_names = img_anno[\"category\"].tolist()\n",
    "            assert img_anno[\"name\"].unique()[0] == img_name\n",
    "\n",
    "            # img_path=os.path.join(img_dir,img_name)\n",
    "            # img =cv2.imread(img_path)\n",
    "            # h,w,c=img.shape\n",
    "            \n",
    "            # #h,w=6000,8192\n",
    "            # self.images.append(self._image(img_path,h, w))\n",
    "\n",
    "\n",
    "            img_path=os.path.join(img_dir,img_name)\n",
    "            img = Image.open(img_path)\n",
    "            w, h = img.size\n",
    "            self.images.append(self._image(img_path,h, w))\n",
    "\n",
    "            self._cp_img(img_path)#复制文件路径\n",
    "            # if self.img_id % 200 is 0:\n",
    "            #     print(\"处理到第{}张图片\".format(self.img_id))\n",
    "            for bbox, label in zip(bboxs, defect_names):\n",
    "                annotation = self._annotation(label, bbox)\n",
    "                self.annotations.append(annotation)\n",
    "                self.ann_id += 1\n",
    "            self.img_id += 1\n",
    "        instance = {}\n",
    "        instance['info'] = 'fabric defect'\n",
    "        instance['license'] = ['none']\n",
    "        instance['images'] = self.images\n",
    "        instance['annotations'] = self.annotations\n",
    "        instance['categories'] = self.categories\n",
    "        return instance\n",
    "\n",
    "    def _init_categories(self):\n",
    "        #1，2，3，4，5，6个类别，不含背景 0\n",
    "        for v in range(1,7):\n",
    "            #print(v)\n",
    "            category = {}\n",
    "            category['id'] = v\n",
    "            category['name'] = str(v)\n",
    "            category['supercategory'] = 'defect_name'\n",
    "            self.categories.append(category)\n",
    "\n",
    "    def _image(self, path,h,w):\n",
    "        image = {}\n",
    "        image['height'] = h\n",
    "        image['width'] = w\n",
    "        image['id'] = self.img_id\n",
    "        image['file_name'] = os.path.basename(path)#返回path最后的文件名\n",
    "        return image\n",
    "\n",
    "    def _annotation(self,label,bbox):\n",
    "        area=(bbox[2]-bbox[0])*(bbox[3]-bbox[1])\n",
    "        points=[[bbox[0],bbox[1]],[bbox[2],bbox[1]],[bbox[2],bbox[3]],[bbox[0],bbox[3]]]\n",
    "        annotation = {}\n",
    "        annotation['id'] = self.ann_id\n",
    "        annotation['image_id'] = self.img_id\n",
    "        annotation['category_id'] = label\n",
    "        annotation['segmentation'] = []# np.asarray(points).flatten().tolist()\n",
    "        annotation['bbox'] = self._get_box(points)\n",
    "        annotation['iscrowd'] = 0\n",
    "        annotation[\"ignore\"] = 0\n",
    "        annotation['area'] = area\n",
    "        return annotation\n",
    "\n",
    "    def _cp_img(self, img_path):\n",
    "        shutil.copy(img_path, os.path.join(\"dataset/coco/{}\".format(self.is_mode), os.path.basename(img_path)))\n",
    "    def _get_box(self, points):\n",
    "        min_x = min_y = np.inf\n",
    "        max_x = max_y = 0\n",
    "        for x, y in points:\n",
    "            min_x = min(min_x, x)\n",
    "            min_y = min(min_y, y)\n",
    "            max_x = max(max_x, x)\n",
    "            max_y = max(max_y, y)\n",
    "        '''coco,[x,y,w,h]'''\n",
    "        return [min_x, min_y, max_x - min_x, max_y - min_y]\n",
    "    def save_coco_json(self, instance, save_path):\n",
    "        import json\n",
    "        with open(save_path, 'w') as fp:\n",
    "            json.dump(instance, fp, indent=1, separators=(',', ': '))#缩进设置为1，元素之间用逗号隔开 ， key和内容之间 用冒号隔开"
   ]
  },
  {
   "cell_type": "code",
   "execution_count": 3,
   "metadata": {},
   "outputs": [
    {
     "name": "stderr",
     "output_type": "stream",
     "text": [
      "100%|██████████| 4227/4227 [00:21<00:00, 200.04it/s]\n"
     ]
    }
   ],
   "source": [
    "# 转换有瑕疵的样本为coco格式\n",
    "#训练集\n",
    "img_dir = \"tile_round1_train_20201231/train_imgs\"\n",
    "anno_dir= \"tile_round1_train_20201231/train_annos.json\"\n",
    "fabric2coco = Fabric2COCO()\n",
    "train_instance = fabric2coco.to_coco(anno_dir,img_dir)\n",
    "if not os.path.exists(\"dataset/coco/annotations/\"):\n",
    "    os.makedirs(\"dataset/coco/annotations/\")\n",
    "fabric2coco.save_coco_json(train_instance, \"dataset/coco/annotations/\"+'instances_{}.json'.format(\"train\"))"
   ]
  },
  {
   "cell_type": "code",
   "execution_count": 4,
   "metadata": {},
   "outputs": [
    {
     "name": "stderr",
     "output_type": "stream",
     "text": [
      "100%|██████████| 1162/1162 [00:04<00:00, 288.26it/s]\n"
     ]
    }
   ],
   "source": [
    "# 转换有瑕疵的样本为coco格式\n",
    "# 验证集\n",
    "img_dir = \"tile_round1_train_20201231/train_imgs\"\n",
    "anno_dir= \"tile_round1_train_20201231/train_annos.json\"\n",
    "fabric2coco = Fabric2COCO(is_mode = \"val\")\n",
    "train_instance = fabric2coco.to_coco(anno_dir,img_dir)\n",
    "if not os.path.exists(\"dataset/coco/annotations/\"):\n",
    "    os.makedirs(\"dataset/coco/annotations/\")\n",
    "fabric2coco.save_coco_json(train_instance, \"dataset/coco/annotations/\"+'instances_{}.json'.format(\"val\"))"
   ]
  },
  {
   "cell_type": "code",
   "execution_count": 5,
   "metadata": {},
   "outputs": [],
   "source": [
    "!mv dataset/coco Yet-Another-EfficientDet-Pytorch/datasets"
   ]
  },
  {
   "cell_type": "code",
   "execution_count": null,
   "metadata": {},
   "outputs": [],
   "source": []
  }
 ],
 "metadata": {
  "kernelspec": {
   "display_name": "Python 3",
   "language": "python",
   "name": "python3"
  },
  "language_info": {
   "codemirror_mode": {
    "name": "ipython",
    "version": 3
   },
   "file_extension": ".py",
   "mimetype": "text/x-python",
   "name": "python",
   "nbconvert_exporter": "python",
   "pygments_lexer": "ipython3",
   "version": "3.7.7"
  }
 },
 "nbformat": 4,
 "nbformat_minor": 4
}
